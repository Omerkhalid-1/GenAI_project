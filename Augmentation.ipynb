{
 "cells": [
  {
   "cell_type": "code",
   "execution_count": 2,
   "metadata": {},
   "outputs": [],
   "source": [
    "import cv2\n",
    "import os\n",
    "from pathlib import Path\n",
    "import matplotlib.pyplot as plt\n",
    "face_cascade = cv2.CascadeClassifier(cv2.data.haarcascades + 'haarcascade_frontalface_default.xml')\n"
   ]
  },
  {
   "cell_type": "code",
   "execution_count": 3,
   "metadata": {},
   "outputs": [],
   "source": [
    "# face Detection\n",
    "def detect_and_save_faces(image_path, output_folder):\n",
    "    img = cv2.imread(str(image_path))\n",
    "    if img is None:\n",
    "        print(f\"Error loading image {image_path}\")\n",
    "        return\n",
    "    \n",
    "    gray = cv2.cvtColor(img, cv2.COLOR_BGR2GRAY)\n",
    "    faces = face_cascade.detectMultiScale(gray, scaleFactor=1.1, minNeighbors=5, minSize=(30, 30))\n",
    "\n",
    "    # Create the output directory if it doesn't exist\n",
    "    Path(output_folder).mkdir(parents=True, exist_ok=True)\n",
    "    \n",
    "    for i, (x, y, w, h) in enumerate(faces):\n",
    "        face_img = img[y:y+h, x:x+w]\n",
    "        output_path = Path(output_folder) / f\"face_{i}_{image_path.name}\"\n",
    "        cv2.imwrite(str(output_path), face_img)\n",
    "       \n"
   ]
  },
  {
   "cell_type": "code",
   "execution_count": 5,
   "metadata": {},
   "outputs": [
    {
     "ename": "KeyboardInterrupt",
     "evalue": "",
     "output_type": "error",
     "traceback": [
      "\u001b[0;31m---------------------------------------------------------------------------\u001b[0m",
      "\u001b[0;31mKeyboardInterrupt\u001b[0m                         Traceback (most recent call last)",
      "Cell \u001b[0;32mIn[5], line 5\u001b[0m\n\u001b[1;32m      2\u001b[0m output_dir \u001b[38;5;241m=\u001b[39m \u001b[38;5;124m'\u001b[39m\u001b[38;5;124m/Users/omerkhalid/Desktop/GenAI-DeepFake/Detected_faces\u001b[39m\u001b[38;5;124m'\u001b[39m\n\u001b[1;32m      4\u001b[0m \u001b[38;5;28;01mfor\u001b[39;00m image_file \u001b[38;5;129;01min\u001b[39;00m Path(dataset_folder)\u001b[38;5;241m.\u001b[39mglob(\u001b[38;5;124m'\u001b[39m\u001b[38;5;124m*.jpg\u001b[39m\u001b[38;5;124m'\u001b[39m):\n\u001b[0;32m----> 5\u001b[0m     detect_and_save_faces(image_file, output_dir)\n",
      "Cell \u001b[0;32mIn[3], line 9\u001b[0m, in \u001b[0;36mdetect_and_save_faces\u001b[0;34m(image_path, output_folder)\u001b[0m\n\u001b[1;32m      6\u001b[0m     \u001b[38;5;28;01mreturn\u001b[39;00m\n\u001b[1;32m      8\u001b[0m gray \u001b[38;5;241m=\u001b[39m cv2\u001b[38;5;241m.\u001b[39mcvtColor(img, cv2\u001b[38;5;241m.\u001b[39mCOLOR_BGR2GRAY)\n\u001b[0;32m----> 9\u001b[0m faces \u001b[38;5;241m=\u001b[39m face_cascade\u001b[38;5;241m.\u001b[39mdetectMultiScale(gray, scaleFactor\u001b[38;5;241m=\u001b[39m\u001b[38;5;241m1.1\u001b[39m, minNeighbors\u001b[38;5;241m=\u001b[39m\u001b[38;5;241m5\u001b[39m, minSize\u001b[38;5;241m=\u001b[39m(\u001b[38;5;241m30\u001b[39m, \u001b[38;5;241m30\u001b[39m))\n\u001b[1;32m     11\u001b[0m \u001b[38;5;66;03m# Create the output directory if it doesn't exist\u001b[39;00m\n\u001b[1;32m     12\u001b[0m Path(output_folder)\u001b[38;5;241m.\u001b[39mmkdir(parents\u001b[38;5;241m=\u001b[39m\u001b[38;5;28;01mTrue\u001b[39;00m, exist_ok\u001b[38;5;241m=\u001b[39m\u001b[38;5;28;01mTrue\u001b[39;00m)\n",
      "\u001b[0;31mKeyboardInterrupt\u001b[0m: "
     ]
    }
   ],
   "source": [
    "dataset_folder = '/Users/omerkhalid/Downloads/celeba_hq_256'\n",
    "output_dir = '/Users/omerkhalid/Desktop/GenAI-DeepFake/Detected_faces'\n",
    "\n",
    "for image_file in Path(dataset_folder).glob('*.jpg'):\n",
    "    detect_and_save_faces(image_file, output_dir)\n"
   ]
  },
  {
   "cell_type": "code",
   "execution_count": 7,
   "metadata": {},
   "outputs": [
    {
     "name": "stdout",
     "output_type": "stream",
     "text": [
      "Requirement already satisfied: dlib in /opt/anaconda3/lib/python3.12/site-packages (19.24.6)\n",
      "Collecting imutils\n",
      "  Downloading imutils-0.5.4.tar.gz (17 kB)\n",
      "  Preparing metadata (setup.py) ... \u001b[?25ldone\n",
      "\u001b[?25hBuilding wheels for collected packages: imutils\n",
      "  Building wheel for imutils (setup.py) ... \u001b[?25ldone\n",
      "\u001b[?25h  Created wheel for imutils: filename=imutils-0.5.4-py3-none-any.whl size=25837 sha256=f2ac17188d84b88ce7eecba5884e8883f4ddc5058a726617cdb4a1271fb7aaeb\n",
      "  Stored in directory: /Users/omerkhalid/Library/Caches/pip/wheels/5b/76/96/ad0c321506837bef578cf3008df3916c23018435a355d9f6b1\n",
      "Successfully built imutils\n",
      "Installing collected packages: imutils\n",
      "Successfully installed imutils-0.5.4\n"
     ]
    }
   ],
   "source": [
    "!pip install dlib imutils\n"
   ]
  },
  {
   "cell_type": "code",
   "execution_count": 9,
   "metadata": {},
   "outputs": [
    {
     "name": "stdout",
     "output_type": "stream",
     "text": [
      "Processing complete. All images saved to /Users/omerkhalid/Desktop/GenAI-DeepFake/aligned_face\n"
     ]
    }
   ],
   "source": [
    "import os\n",
    "import cv2\n",
    "import dlib\n",
    "from imutils import face_utils\n",
    "from pathlib import Path  # Import the Path class\n",
    "\n",
    "# Initialize dlib's face detector (HOG-based) and create the facial landmark predictor\n",
    "p = \"/Users/omerkhalid/Desktop/GenAI-DeepFake/shape_predictor_68_face_landmarks.dat\"\n",
    "detector = dlib.get_frontal_face_detector()\n",
    "predictor = dlib.shape_predictor(p)\n",
    "\n",
    "# Path to the directory containing images\n",
    "folder_path = \"/Users/omerkhalid/Desktop/GenAI-DeepFake/Detected_faces\"\n",
    "output_folder_path = \"/Users/omerkhalid/Desktop/GenAI-DeepFake/aligned_face\"  # Directory to save processed images\n",
    "\n",
    "# Ensure the output directory exists using Path\n",
    "Path(output_folder_path).mkdir(parents=True, exist_ok=True)\n",
    "\n",
    "# Iterate over each file in the folder\n",
    "for filename in os.listdir(folder_path):\n",
    "    if filename.lower().endswith(\".jpg\") or filename.lower().endswith(\".png\"):\n",
    "        # Construct full file path using Path for better path handling\n",
    "        file_path = Path(folder_path) / filename\n",
    "        \n",
    "        # Load the input image and convert it to grayscale\n",
    "        image = cv2.imread(str(file_path))\n",
    "        gray = cv2.cvtColor(image, cv2.COLOR_BGR2GRAY)\n",
    "        \n",
    "        # Detect faces in the grayscale image\n",
    "        rects = detector(gray, 0)\n",
    "        \n",
    "        # Loop over the face detections\n",
    "        for (i, rect) in enumerate(rects):\n",
    "            # Determine the facial landmarks for the face region, then convert to a NumPy array\n",
    "            shape = predictor(gray, rect)\n",
    "            shape = face_utils.shape_to_np(shape)\n",
    "            \n",
    "            # Loop over the (x, y)-coordinates for the facial landmarks and draw them on the image\n",
    "            for (x, y) in shape:\n",
    "                cv2.circle(image, (x, y), 2, (0, 255, 0), -1)\n",
    "        \n",
    "        # Construct output file path using Path\n",
    "        output_file_path = Path(output_folder_path) / filename\n",
    "        \n",
    "        # Save the output image with the face detections + facial landmarks\n",
    "        cv2.imwrite(str(output_file_path), image)\n",
    "\n",
    "print(\"Processing complete. All images saved to\", output_folder_path)\n"
   ]
  },
  {
   "cell_type": "code",
   "execution_count": 16,
   "metadata": {},
   "outputs": [
    {
     "ename": "KeyboardInterrupt",
     "evalue": "",
     "output_type": "error",
     "traceback": [
      "\u001b[0;31m---------------------------------------------------------------------------\u001b[0m",
      "\u001b[0;31mKeyboardInterrupt\u001b[0m                         Traceback (most recent call last)",
      "Cell \u001b[0;32mIn[16], line 31\u001b[0m\n\u001b[1;32m     28\u001b[0m gray \u001b[38;5;241m=\u001b[39m cv2\u001b[38;5;241m.\u001b[39mcvtColor(image, cv2\u001b[38;5;241m.\u001b[39mCOLOR_BGR2GRAY)\n\u001b[1;32m     30\u001b[0m \u001b[38;5;66;03m# Detect faces in the grayscale image\u001b[39;00m\n\u001b[0;32m---> 31\u001b[0m rects \u001b[38;5;241m=\u001b[39m detector(gray, \u001b[38;5;241m0\u001b[39m)\n\u001b[1;32m     33\u001b[0m \u001b[38;5;66;03m# Loop over the face detections\u001b[39;00m\n\u001b[1;32m     34\u001b[0m \u001b[38;5;28;01mfor\u001b[39;00m (i, rect) \u001b[38;5;129;01min\u001b[39;00m \u001b[38;5;28menumerate\u001b[39m(rects):\n\u001b[1;32m     35\u001b[0m     \u001b[38;5;66;03m# Determine the facial landmarks for the face region, then convert to a NumPy array\u001b[39;00m\n",
      "\u001b[0;31mKeyboardInterrupt\u001b[0m: "
     ]
    }
   ],
   "source": [
    "import os\n",
    "import cv2\n",
    "import numpy as np\n",
    "import dlib\n",
    "from imutils import face_utils\n",
    "from pathlib import Path\n",
    "\n",
    "# Initialize dlib's face detector (HOG-based) and create the facial landmark predictor\n",
    "p = \"/Users/omerkhalid/Desktop/GenAI-DeepFake/shape_predictor_68_face_landmarks.dat\"\n",
    "detector = dlib.get_frontal_face_detector()\n",
    "predictor = dlib.shape_predictor(p)\n",
    "\n",
    "# Path to the directory containing images\n",
    "folder_path = \"/Users/omerkhalid/Desktop/GenAI-DeepFake/Detected_faces\"\n",
    "output_folder_path = \"/Users/omerkhalid/Desktop/GenAI-DeepFake/Segment1\"  # Directory to save processed images\n",
    "\n",
    "# Ensure the output directory exists using Path\n",
    "Path(output_folder_path).mkdir(parents=True, exist_ok=True)\n",
    "\n",
    "# Iterate over each file in the folder\n",
    "for filename in os.listdir(folder_path):\n",
    "    if filename.lower().endswith(\".jpg\") or filename.lower().endswith(\".png\"):\n",
    "        # Construct full file path using Path for better path handling\n",
    "        file_path = Path(folder_path) / filename\n",
    "        \n",
    "        # Load the input image and convert it to grayscale\n",
    "        image = cv2.imread(str(file_path))\n",
    "        gray = cv2.cvtColor(image, cv2.COLOR_BGR2GRAY)\n",
    "        \n",
    "        # Detect faces in the grayscale image\n",
    "        rects = detector(gray, 0)\n",
    "        \n",
    "        # Loop over the face detections\n",
    "        for (i, rect) in enumerate(rects):\n",
    "            # Determine the facial landmarks for the face region, then convert to a NumPy array\n",
    "            shape = predictor(gray, rect)\n",
    "            shape = face_utils.shape_to_np(shape)\n",
    "            \n",
    "            # Create a mask for the face including eyes and jawline\n",
    "            mask = np.zeros_like(gray)  # Create a mask the same size as the face\n",
    "            # Define points for the jawline and eyes\n",
    "            jawline_points = shape[0:17]  # Jaw line\n",
    "            left_eye_points = shape[36:42]  # Left eye\n",
    "            right_eye_points = shape[42:48]  # Right eye\n",
    "            mask_points = np.concatenate([jawline_points, left_eye_points, right_eye_points])\n",
    "            cv2.fillPoly(mask, [mask_points], 255)\n",
    "            \n",
    "            # Extract the face by bitwise and operation with the mask\n",
    "            face = cv2.bitwise_and(image, image, mask=mask)\n",
    "            \n",
    "            # Save just the face part\n",
    "            (x, y, w, h) = cv2.boundingRect(cv2.cvtColor(face, cv2.COLOR_BGR2GRAY))\n",
    "            face_only = face[y:y+h, x:x+w]\n",
    "\n",
    "            # Construct output file path using Path\n",
    "            output_file_path = Path(output_folder_path) / f\"face_{i}_{filename}\"\n",
    "            \n",
    "            # Save the output image with the face segmentations\n",
    "            cv2.imwrite(str(output_file_path), face_only)\n",
    "\n",
    "print(\"Processing complete. All images saved to\", output_folder_path)\n"
   ]
  },
  {
   "cell_type": "code",
   "execution_count": null,
   "metadata": {},
   "outputs": [],
   "source": []
  }
 ],
 "metadata": {
  "kernelspec": {
   "display_name": "base",
   "language": "python",
   "name": "python3"
  },
  "language_info": {
   "codemirror_mode": {
    "name": "ipython",
    "version": 3
   },
   "file_extension": ".py",
   "mimetype": "text/x-python",
   "name": "python",
   "nbconvert_exporter": "python",
   "pygments_lexer": "ipython3",
   "version": "3.12.4"
  }
 },
 "nbformat": 4,
 "nbformat_minor": 2
}
